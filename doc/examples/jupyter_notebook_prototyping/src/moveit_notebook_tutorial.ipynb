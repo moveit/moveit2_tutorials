{
 "cells": [
  {
   "cell_type": "markdown",
   "id": "4df8633e",
   "metadata": {},
   "source": [
    "# Introduction\n",
    "\n",
    "Welcome to this tutorial on using jupyter notebooks with Moveit 2. A great benefit of being able to interact with MoveIt via a Python notebook is the ability to rapidly prototype code. We hope you find this interface intuitive and that you gain value from using MoveIt via Python notebooks.\n",
    "\n",
    "In this tutorial we will cover the following: \n",
    "\n",
    "* The required imports to run the notebook\n",
    "* A motion planning example\n",
    "* A teleoperation example\n",
    "\n",
    "If you have suggestions or feedback for this tutorial please post an issue on GitHub (https://github.com/ros-planning/moveit2_tutorials) and tag @peterdavidfagan."
   ]
  },
  {
   "cell_type": "markdown",
   "id": "91901c66",
   "metadata": {},
   "source": [
    "## Imports\n",
    "\n",
    "Note: to launch this notebook and the nodes it depends on you must first specify a launch file. Details are provided earlier in this tutorial."
   ]
  },
  {
   "cell_type": "code",
   "execution_count": null,
   "id": "7bd810f5",
   "metadata": {},
   "outputs": [],
   "source": [
    "import os\n",
    "import sys\n",
    "import yaml\n",
    "import rclpy\n",
    "import numpy as np\n",
    "\n",
    "# message libraries\n",
    "from geometry_msgs.msg import PoseStamped, Pose\n",
    "\n",
    "# moveit_py\n",
    "from moveit.planning import MoveItPy\n",
    "from moveit.core.robot_state import RobotState\n",
    "\n",
    "# config file libraries\n",
    "from moveit_configs_utils import MoveItConfigsBuilder\n",
    "from ament_index_python.packages import get_package_share_directory\n",
    "\n",
    "\n",
    "# we need to specify our moveit_py config at the top of each notebook we use. \n",
    "# this is since we will start spinning a moveit_py node within this notebook.\n",
    "\n",
    "moveit_config = (\n",
    "        MoveItConfigsBuilder(robot_name=\"panda\", package_name=\"moveit_resources_panda_moveit_config\")\n",
    "        .robot_description(file_path=\"config/panda.urdf.xacro\")\n",
    "        .trajectory_execution(file_path=\"config/gripper_moveit_controllers.yaml\")\n",
    "        .moveit_cpp(\n",
    "            file_path=os.path.join(\n",
    "                get_package_share_directory(\"moveit2_tutorials\"),\n",
    "                \"config\",\n",
    "                \"jupyter_notebook_prototyping.yaml\"\n",
    "        )\n",
    "    )\n",
    "    .to_moveit_configs()\n",
    "    ).to_dict()"
   ]
  },
  {
   "cell_type": "markdown",
   "id": "d44015e2",
   "metadata": {},
   "source": [
    "## Setup"
   ]
  },
  {
   "cell_type": "code",
   "execution_count": null,
   "id": "f9d767d3",
   "metadata": {},
   "outputs": [],
   "source": [
    "# initialise rclpy (only for logging purposes)\n",
    "rclpy.init()\n",
    "\n",
    "# instantiate moveit_py instance and a planning component for the panda_arm\n",
    "panda = MoveItPy(node_name=\"moveit_py\", config_dict=moveit_config)\n",
    "panda_arm = panda.get_planning_component(\"panda_arm\")"
   ]
  },
  {
   "cell_type": "markdown",
   "id": "2f72a61e",
   "metadata": {},
   "source": [
    "## Motion Planning Example"
   ]
  },
  {
   "cell_type": "code",
   "execution_count": null,
   "id": "47a8d091",
   "metadata": {},
   "outputs": [],
   "source": [
    "def plan_and_execute(\n",
    "    robot,\n",
    "    planning_component,\n",
    "    single_plan_parameters=None,\n",
    "    multi_plan_parameters=None,\n",
    "):\n",
    "    \"\"\"A helper function to plan and execute a motion.\"\"\"\n",
    "    # plan to goal\n",
    "    if multi_plan_parameters is not None:\n",
    "        plan_result = planning_component.plan(\n",
    "            multi_plan_parameters=multi_plan_parameters\n",
    "        )\n",
    "    elif single_plan_parameters is not None:\n",
    "        plan_result = planning_component.plan(\n",
    "            single_plan_parameters=single_plan_parameters\n",
    "        )\n",
    "    else:\n",
    "        plan_result = planning_component.plan()\n",
    "\n",
    "    # execute the plan\n",
    "    if plan_result:\n",
    "        robot_trajectory = plan_result.trajectory\n",
    "        robot.execute(robot_trajectory, blocking=True, controllers=[])\n",
    "    else:\n",
    "        print(\"Planning failed\")"
   ]
  },
  {
   "cell_type": "code",
   "execution_count": null,
   "id": "74c84771",
   "metadata": {},
   "outputs": [],
   "source": [
    "# set plan start state using predefined state\n",
    "panda_arm.set_start_state(\"ready\")\n",
    "\n",
    "# set pose goal using predefined state\n",
    "panda_arm.set_goal_state(configuration_name = \"extended\")\n",
    "\n",
    "# plan to goal\n",
    "plan_and_execute(panda, panda_arm)"
   ]
  },
  {
   "cell_type": "markdown",
   "id": "297c0a2a",
   "metadata": {},
   "source": [
    "We can perform motion planning interactively (see the motion planning tutorial for further details of the motion planning API). Suppose we are developing our code and we make a mistake such as follows:"
   ]
  },
  {
   "cell_type": "code",
   "execution_count": null,
   "id": "8d96f26b",
   "metadata": {},
   "outputs": [],
   "source": [
    "# set plan start state using predefined state\n",
    "panda_arm.set_start_state(\"ready\") # This conflicts with the current robot configuration and will cause an error\n",
    "\n",
    "# set goal using a pose message this time\n",
    "pose_goal = PoseStamped()\n",
    "pose_goal.header.frame_id = \"panda_link0\"\n",
    "pose_goal.pose.orientation.w = 1.0\n",
    "pose_goal.pose.position.x = 0.28\n",
    "pose_goal.pose.position.y = -0.2\n",
    "pose_goal.pose.position.z = 0.5\n",
    "panda_arm.set_goal_state(pose_stamped_msg = pose_goal, pose_link = \"panda_link8\")\n",
    "\n",
    "# plan to goal\n",
    "plan_and_execute(panda, panda_arm)"
   ]
  },
  {
   "cell_type": "markdown",
   "id": "6132cfed",
   "metadata": {},
   "source": [
    "Since we are using a notebook this mistake is easy to rectify without having to fix the bug and recompile files. Simply edit the above notebook to match the below and rerun the cell."
   ]
  },
  {
   "cell_type": "code",
   "execution_count": null,
   "id": "34afad73",
   "metadata": {},
   "outputs": [],
   "source": [
    "# set plan start state using predefined state\n",
    "panda_arm.set_start_state_to_current_state()\n",
    "\n",
    "# set goal using a pose message this time\n",
    "pose_goal = PoseStamped()\n",
    "pose_goal.header.frame_id = \"panda_link0\"\n",
    "pose_goal.pose.orientation.w = 1.0\n",
    "pose_goal.pose.position.x = 0.28\n",
    "pose_goal.pose.position.y = -0.2\n",
    "pose_goal.pose.position.z = 0.5\n",
    "panda_arm.set_goal_state(pose_stamped_msg = pose_goal, pose_link = \"panda_link8\")\n",
    "\n",
    "# plan to goal\n",
    "plan_and_execute(panda, panda_arm)"
   ]
  },
  {
   "cell_type": "markdown",
   "id": "f401a966",
   "metadata": {},
   "source": [
    "## Teleoperation Example\n",
    "\n",
    "One may also want to perform live teleoperation of their robot. With the Python API it is possible to interactively start/stop teleoperation without shutting down and subsequently relaunching all processes. In this example, we are going to show how this is possible with notebooks through a motivating example of teleoperating the robot, performing motion planning and teleoperating the robot again.\n",
    "\n",
    "For this section you will need a device that support teleoperation with ``moveit_py``, in this case we leverage the PS4 dualshock controller. \n",
    "\n",
    "To start teleoperating the robot we instantiate the PS4 dualshock controller as a teleop device."
   ]
  },
  {
   "cell_type": "code",
   "execution_count": null,
   "id": "e4704d76",
   "metadata": {},
   "outputs": [],
   "source": [
    "from moveit.servo_client.devices.ps4_dualshock import PS4DualShockTeleop\n",
    "\n",
    "# instantiate the teleoperating device\n",
    "ps4 = PS4DualShockTeleop(ee_frame_name=\"panda_link8\")\n",
    "\n",
    "# start teleloperating the robot\n",
    "ps4.start_teleop()"
   ]
  },
  {
   "cell_type": "markdown",
   "id": "3d929142",
   "metadata": {},
   "source": [
    "If we want to perform motion planning to bring the robot back to its default configuration, we simply stop teleoperating the robot and leverage the existing motion planning API as demonstrated below:"
   ]
  },
  {
   "cell_type": "code",
   "execution_count": null,
   "id": "99c6bb11",
   "metadata": {},
   "outputs": [],
   "source": [
    "# stop teleoperating the robot\n",
    "ps4.stop_teleop()\n",
    "\n",
    "# plan and execute\n",
    "# set plan start state using predefined state\n",
    "panda_arm.set_start_state_to_current_state()\n",
    "\n",
    "# set pose goal using predefined state\n",
    "panda_arm.set_goal_state(configuration_name = \"ready\")\n",
    "\n",
    "# plan to goal\n",
    "plan_and_execute(panda, panda_arm)"
   ]
  },
  {
   "cell_type": "markdown",
   "id": "668f41f7",
   "metadata": {},
   "source": [
    "Ok great now we are back at our default configuration, lets start teleoperating the robot again."
   ]
  },
  {
   "cell_type": "code",
   "execution_count": null,
   "id": "1903a557",
   "metadata": {},
   "outputs": [],
   "source": [
    "ps4.start_teleop()"
   ]
  }
 ],
 "metadata": {
  "kernelspec": {
   "display_name": "Python 3 (ipykernel)",
   "language": "python",
   "name": "python3"
  },
  "language_info": {
   "codemirror_mode": {
    "name": "ipython",
    "version": 3
   },
   "file_extension": ".py",
   "mimetype": "text/x-python",
   "name": "python",
   "nbconvert_exporter": "python",
   "pygments_lexer": "ipython3",
   "version": "3.10.6"
  }
 },
 "nbformat": 4,
 "nbformat_minor": 5
}
